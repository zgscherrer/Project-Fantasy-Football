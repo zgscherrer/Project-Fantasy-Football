{
 "cells": [
  {
   "cell_type": "markdown",
   "metadata": {},
   "source": [
    "## Merge Scrapes and Send to SQLite\n",
    "\n",
    "Import pickles and then merge them together.   \n",
    "\n",
    "Always start with ESPN dataframe and merge onto it to keep consistent with naming conventions."
   ]
  },
  {
   "cell_type": "code",
   "execution_count": 111,
   "metadata": {},
   "outputs": [],
   "source": [
    "import pandas as pd\n",
    "import numpy as np\n",
    "\n",
    "from sqlalchemy import create_engine\n",
    "\n",
    "import time"
   ]
  },
  {
   "cell_type": "code",
   "execution_count": null,
   "metadata": {},
   "outputs": [],
   "source": []
  },
  {
   "cell_type": "markdown",
   "metadata": {},
   "source": [
    "### Import Data from Pickle Archives/Quick Checks\n",
    "- Import data\n",
    "- Quick check overlapping number of all projections (probably about high 300s based on initial name checks - if less than that, may want to go back and use the Scraping Check for Naming Overlaps to investigate some more and make sure some new formatting/scrape edge cases aren't breaking the scrape functions)"
   ]
  },
  {
   "cell_type": "markdown",
   "metadata": {},
   "source": [
    "#### Week 2"
   ]
  },
  {
   "cell_type": "code",
   "execution_count": 51,
   "metadata": {},
   "outputs": [],
   "source": [
    "#import week 2 projections\n",
    "df_wk2_ppr_proj_espn = pd.read_pickle('pickle_archive/Week2_PPR_Projections_ESPN_2018-9-16-7-35.pkl')\n",
    "df_wk2_ppr_proj_cbs = pd.read_pickle('pickle_archive/Week2_PPR_Projections_CBS_2018-9-16-7-35.pkl')\n",
    "df_wk2_ppr_proj_sharks = pd.read_pickle('pickle_archive/Week2_PPR_Projections_Sharks_2018-9-16-7-35.pkl')\n",
    "df_wk2_ppr_proj_scout = pd.read_pickle('pickle_archive/Week2_PPR_Projections_SCOUT_2018-9-16-7-35.pkl')\n",
    "df_wk2_ppr_prvs_wk_actuals = pd.read_pickle('pickle_archive/Week1_Player_Actual_PPR_2018-9-16-7-31.pkl')\n",
    "\n",
    "df_wk2_salary_fanduel = pd.read_pickle('pickle_archive/Week2_Salary_FanDuel_2018-9-16-7-35.pkl')"
   ]
  },
  {
   "cell_type": "code",
   "execution_count": 52,
   "metadata": {},
   "outputs": [
    {
     "name": "stdout",
     "output_type": "stream",
     "text": [
      "Week2 ESPN:  (1007, 5)\n",
      "Week2 CBS:  (815, 5)\n",
      "Week2 SHARKS:  (992, 5)\n",
      "Week2 SCOUT:  (374, 5)\n",
      "Week1 ACTUALS:  (1007, 5)\n",
      "Week2 FANDUEL SALARY:  (669, 5)\n"
     ]
    }
   ],
   "source": [
    "#print sizes of week 2\n",
    "print('Week2 ESPN: ', df_wk2_ppr_proj_espn.shape)\n",
    "print('Week2 CBS: ', df_wk2_ppr_proj_cbs.shape)\n",
    "print('Week2 SHARKS: ', df_wk2_ppr_proj_sharks.shape)\n",
    "print('Week2 SCOUT: ', df_wk2_ppr_proj_scout.shape)\n",
    "print('Week1 ACTUALS: ', df_wk2_ppr_prvs_wk_actuals.shape)\n",
    "print('Week2 FANDUEL SALARY: ', df_wk2_salary_fanduel.shape)"
   ]
  },
  {
   "cell_type": "code",
   "execution_count": 59,
   "metadata": {},
   "outputs": [
    {
     "name": "stdout",
     "output_type": "stream",
     "text": [
      "Number of Overalapping Players in All Weekly Projections:  363\n"
     ]
    }
   ],
   "source": [
    "#how many overlapping players for all four projection sources (ignore previous week actual results)\n",
    "espn_cbs_sharks_scout_intersection = set(df_wk2_ppr_proj_espn.PLAYER.tolist()) &\\\n",
    "                                     set(df_wk2_ppr_proj_cbs.PLAYER.tolist()) &\\\n",
    "                                     set(df_wk2_ppr_proj_sharks.PLAYER.tolist()) &\\\n",
    "                                     set(df_wk2_ppr_proj_scout.PLAYER.tolist())\n",
    "\n",
    "print('Number of Overlapping Players in All Weekly Projections: ',\n",
    "      len(espn_cbs_sharks_scout_intersection))"
   ]
  },
  {
   "cell_type": "code",
   "execution_count": null,
   "metadata": {},
   "outputs": [],
   "source": []
  },
  {
   "cell_type": "markdown",
   "metadata": {},
   "source": [
    "#### Week 1"
   ]
  },
  {
   "cell_type": "code",
   "execution_count": 132,
   "metadata": {},
   "outputs": [],
   "source": [
    "#import week 1 projections\n",
    "df_wk1_ppr_proj_espn = pd.read_pickle('pickle_archive/Week1_PPR_Projections_ESPN_2018-9-16-7-33.pkl')\n",
    "df_wk1_ppr_proj_cbs = pd.read_pickle('pickle_archive/Week1_PPR_Projections_CBS_2018-9-16-7-35.pkl')\n",
    "df_wk1_ppr_proj_sharks = pd.read_pickle('pickle_archive/Week1_PPR_Projections_Sharks_2018-9-16-7-35.pkl')\n",
    "df_wk1_ppr_proj_scout = pd.read_pickle('pickle_archive/Week1_PPR_Projections_SCOUT_2018-9-16-7-35.pkl')\n",
    "df_wk1_ppr_prvs_wk_actuals = pd.DataFrame(   #don't have any week 1 previous week actuals b/c haven't played so create empty DF \n",
    "                                columns=['PLAYER','POS','TEAM','FPTS_PPR_ACTUAL','WEEK']) #but put in column names so doesn't break merge function\n",
    "\n",
    "df_wk1_salary_fanduel = pd.DataFrame(   #don't have any week 1 FanDuel Salary Info becasuse didn't pull it and can't find old archives of the data\n",
    "                           columns=['PLAYER','POS','TEAM','SALARY_FANDUEL', 'WEEK']) #but put in column names so doesn't break merge function"
   ]
  },
  {
   "cell_type": "code",
   "execution_count": 133,
   "metadata": {},
   "outputs": [
    {
     "name": "stdout",
     "output_type": "stream",
     "text": [
      "Week1 ESPN:  (1007, 5)\n",
      "Week1 CBS:  (793, 5)\n",
      "Week1 SHARKS:  (918, 5)\n",
      "Week1 SCOUT:  (388, 5)\n",
      "Week1 ACTUALS:  (0, 5)\n",
      "Week1 FANDUEL SALARY:  (0, 5)\n"
     ]
    }
   ],
   "source": [
    "#print sizes of week 1\n",
    "print('Week1 ESPN: ', df_wk1_ppr_proj_espn.shape)\n",
    "print('Week1 CBS: ', df_wk1_ppr_proj_cbs.shape)\n",
    "print('Week1 SHARKS: ', df_wk1_ppr_proj_sharks.shape)\n",
    "print('Week1 SCOUT: ', df_wk1_ppr_proj_scout.shape)\n",
    "print('Week1 ACTUALS: ', df_wk1_ppr_prvs_wk_actuals.shape)\n",
    "print('Week1 FANDUEL SALARY: ', df_wk1_salary_fanduel.shape)"
   ]
  },
  {
   "cell_type": "code",
   "execution_count": 134,
   "metadata": {},
   "outputs": [
    {
     "name": "stdout",
     "output_type": "stream",
     "text": [
      "Number of Overlapping Players in All Weekly Projections:  359\n"
     ]
    }
   ],
   "source": [
    "#how many overlapping players for all four projection sources (ignore previous week actual results)\n",
    "espn_cbs_sharks_scout_intersection = set(df_wk1_ppr_proj_espn.PLAYER.tolist()) &\\\n",
    "                                     set(df_wk1_ppr_proj_cbs.PLAYER.tolist()) &\\\n",
    "                                     set(df_wk1_ppr_proj_sharks.PLAYER.tolist()) &\\\n",
    "                                     set(df_wk1_ppr_proj_scout.PLAYER.tolist())\n",
    "\n",
    "print('Number of Overlapping Players in All Weekly Projections: ',\n",
    "      len(espn_cbs_sharks_scout_intersection))"
   ]
  },
  {
   "cell_type": "code",
   "execution_count": null,
   "metadata": {},
   "outputs": [],
   "source": []
  },
  {
   "cell_type": "markdown",
   "metadata": {},
   "source": [
    "### Merge Data & Save to SQLite\n",
    "- Merge Data\n",
    "- Save to SQLite Database"
   ]
  },
  {
   "cell_type": "code",
   "execution_count": 120,
   "metadata": {},
   "outputs": [],
   "source": [
    "###FUNCTION CREATE TABLES IN OUR SQLITE DATABASE - USE A FIXED DATABASE NAME OF fantasy_football_2018.db###\n",
    "\n",
    "#function inputs are the dataframe, the table_name, and the\n",
    "#if_exists_action can be 'fail', 'replace', 'append' (default is set to 'append' if user doesn't put in anything)\n",
    "def add_to_SQLite(df, table_name, if_exists_action='append'):\n",
    "    default_database_path = 'sqlite:///fantasy_football_2018.db'\n",
    "    disk_engine = create_engine(default_database_path)\n",
    "    \n",
    "    df.to_sql(table_name, disk_engine,\n",
    "              if_exists=if_exists_action, index=False, \n",
    "              chunksize=100) #chunksize limits how many variables get added at a time (SQLite needed max of 100 or would error out)\n",
    "    \n",
    "    print(f\"Table {table_name} was added to the database at {default_database_path}\")"
   ]
  },
  {
   "cell_type": "code",
   "execution_count": 102,
   "metadata": {},
   "outputs": [],
   "source": [
    "###FUNCTION INNER MERGES ALL THE WEEKLY PROJECTION INFORMATION - TO GET ONLY PLAYERS THAT SHOW UP IN ALL PROJECTION DFs###\n",
    "\n",
    "#want inputs to be the weekly ppr projection dataframes for each of ESPN, CBS, SHARKS, SCOUT,\n",
    "#and then also the previous week fantasy score\n",
    "def get_weekly_PPR_proj_df_inner_merge(df_espn_ppr_proj, df_cbs_ppr_proj,\n",
    "                                         df_sharks_ppr_proj, df_scout_ppr_proj,\n",
    "                                         df_ppr_prvs_wk_actuals):\n",
    "    \n",
    "    #start with espn proj, merge in cbs as inner (only keep overlapping players)\n",
    "    df_ppr_proj = pd.merge(df_espn_ppr_proj[['PLAYER', 'POS', 'TEAM', 'FPTS_PPR_ESPN']],\n",
    "                       df_cbs_ppr_proj[['PLAYER', 'POS', 'FPTS_PPR_CBS']],\n",
    "                       how='inner',\n",
    "                       on=['PLAYER','POS'])\n",
    "    print(df_ppr_proj.shape)\n",
    "\n",
    "\n",
    "    #next merge in sharks as inner (only keep overlapping players)\n",
    "    df_ppr_proj = pd.merge(df_ppr_proj,\n",
    "                       df_sharks_ppr_proj[['PLAYER','POS','FPTS_PPR_SHARKS']],\n",
    "                       how='inner',\n",
    "                       on=['PLAYER', 'POS'])\n",
    "    print(df_ppr_proj.shape)\n",
    "\n",
    "\n",
    "    #next merge in scout as inner (only keep overlapping players)\n",
    "    df_ppr_proj = pd.merge(df_ppr_proj,\n",
    "                       df_scout_ppr_proj[['PLAYER','POS','FPTS_PPR_SCOUT']],\n",
    "                       how='inner',\n",
    "                       on=['PLAYER', 'POS'])\n",
    "    print(df_ppr_proj.shape)\n",
    "\n",
    "\n",
    "    #next merge in previous week actual (do left merge (don't want to do inner because if player didn't play last week, don't want to not include in this week))\n",
    "    df_ppr_proj = pd.merge(df_ppr_proj,\n",
    "                       df_ppr_prvs_wk_actuals[['PLAYER','POS','FPTS_PPR_ACTUAL']],\n",
    "                       how='left',\n",
    "                       on=['PLAYER', 'POS'])\n",
    "\n",
    "    #rename column title so know it is previous week actual\n",
    "    df_ppr_proj.rename(columns={'FPTS_PPR_ACTUAL':'FPTS_PPR_PRVS_WK_ACTUAL'},\n",
    "                              inplace=True)\n",
    "\n",
    "    #since did left merge for previous week actuals, make sure to change any None or Nan values to 0 for\n",
    "    #missing players that didn't play week before and would have had zero points\n",
    "    df_ppr_proj['FPTS_PPR_PRVS_WK_ACTUAL'] = df_ppr_proj['FPTS_PPR_PRVS_WK_ACTUAL'].map(\n",
    "                                                    lambda x: 0.0 if pd.isna(x) else x)\n",
    "\n",
    "\n",
    "    #print final shape and final head\n",
    "    print(df_ppr_proj.shape)\n",
    "    return df_ppr_proj"
   ]
  },
  {
   "cell_type": "code",
   "execution_count": 104,
   "metadata": {},
   "outputs": [],
   "source": [
    "###FUNCTION OUTER MERGES ALL THE WEEKLY PROJECTION INFORMATION - GETS ALL SCRAPED DATA PULLED###\n",
    "##!!!DO NOT USE THIS FOR CUSTOM WEIGHTED PERCENTAGE CALCULATIONS AS WILL HAVE LOTS OF NULL OBJECTS\n",
    "##UNLESS FILTER OUT NAN ROWS in SQL\n",
    "\n",
    "#want inputs to be the weekly ppr projection dataframes for each of ESPN, CBS, SHARKS, SCOUT,\n",
    "#and then also the previous week fantasy score\n",
    "def get_weekly_PPR_proj_df_outer_merge(df_espn_ppr_proj, df_cbs_ppr_proj,\n",
    "                                         df_sharks_ppr_proj, df_scout_ppr_proj,\n",
    "                                         df_ppr_prvs_wk_actuals):\n",
    "    \n",
    "    #start with espn proj, merge in cbs as outer(include all players scraped)\n",
    "    df_ppr_proj_outer = pd.merge(df_espn_ppr_proj[['PLAYER', 'POS', 'TEAM', 'FPTS_PPR_ESPN']],\n",
    "                       df_cbs_ppr_proj[['PLAYER', 'POS', 'FPTS_PPR_CBS']],\n",
    "                       how='outer',\n",
    "                       on=['PLAYER','POS'])\n",
    "    print(df_ppr_proj_outer.shape)\n",
    "\n",
    "\n",
    "    #next merge in sharks as outer(include all players scraped)\n",
    "    df_ppr_proj_outer = pd.merge(df_ppr_proj_outer,\n",
    "                       df_sharks_ppr_proj[['PLAYER','POS','FPTS_PPR_SHARKS']],\n",
    "                       how='outer',\n",
    "                       on=['PLAYER', 'POS'])\n",
    "    print(df_ppr_proj_outer.shape)\n",
    "\n",
    "\n",
    "    #next merge in scout as outer(include all players scraped)\n",
    "    df_ppr_proj_outer = pd.merge(df_ppr_proj_outer,\n",
    "                       df_scout_ppr_proj[['PLAYER','POS','FPTS_PPR_SCOUT']],\n",
    "                       how='outer',\n",
    "                       on=['PLAYER', 'POS'])\n",
    "    print(df_ppr_proj_outer.shape)\n",
    "\n",
    "\n",
    "    #next merge in previous week actual as outer(include all players scraped)\n",
    "    df_ppr_proj_outer = pd.merge(df_ppr_proj_outer,\n",
    "                       df_ppr_prvs_wk_actuals[['PLAYER','POS','FPTS_PPR_ACTUAL']],\n",
    "                       how='outer',\n",
    "                       on=['PLAYER', 'POS'])\n",
    "\n",
    "    #rename column title so know it is previous week actual\n",
    "    df_ppr_proj_outer.rename(columns={'FPTS_PPR_ACTUAL':'FPTS_PPR_PRVS_WK_ACTUAL'},\n",
    "                              inplace=True)\n",
    "\n",
    "\n",
    "    #print final shape and final head\n",
    "    print(df_ppr_proj_outer.shape)\n",
    "    return df_ppr_proj_outer"
   ]
  },
  {
   "cell_type": "code",
   "execution_count": null,
   "metadata": {},
   "outputs": [],
   "source": []
  },
  {
   "cell_type": "markdown",
   "metadata": {},
   "source": [
    "#### Merge Week 2 Projection Information and Send to SQLite"
   ]
  },
  {
   "cell_type": "code",
   "execution_count": 103,
   "metadata": {},
   "outputs": [
    {
     "name": "stdout",
     "output_type": "stream",
     "text": [
      "(721, 5)\n",
      "(475, 6)\n",
      "(361, 7)\n",
      "(361, 8)\n"
     ]
    },
    {
     "data": {
      "text/html": [
       "<div>\n",
       "<style scoped>\n",
       "    .dataframe tbody tr th:only-of-type {\n",
       "        vertical-align: middle;\n",
       "    }\n",
       "\n",
       "    .dataframe tbody tr th {\n",
       "        vertical-align: top;\n",
       "    }\n",
       "\n",
       "    .dataframe thead th {\n",
       "        text-align: right;\n",
       "    }\n",
       "</style>\n",
       "<table border=\"1\" class=\"dataframe\">\n",
       "  <thead>\n",
       "    <tr style=\"text-align: right;\">\n",
       "      <th></th>\n",
       "      <th>PLAYER</th>\n",
       "      <th>POS</th>\n",
       "      <th>TEAM</th>\n",
       "      <th>FPTS_PPR_ESPN</th>\n",
       "      <th>FPTS_PPR_CBS</th>\n",
       "      <th>FPTS_PPR_SHARKS</th>\n",
       "      <th>FPTS_PPR_SCOUT</th>\n",
       "      <th>FPTS_PPR_PRVS_WK_ACTUAL</th>\n",
       "    </tr>\n",
       "  </thead>\n",
       "  <tbody>\n",
       "    <tr>\n",
       "      <th>0</th>\n",
       "      <td>Alvin Kamara</td>\n",
       "      <td>RB</td>\n",
       "      <td>NO</td>\n",
       "      <td>22.8</td>\n",
       "      <td>21.0</td>\n",
       "      <td>24.1</td>\n",
       "      <td>32.0</td>\n",
       "      <td>43.1</td>\n",
       "    </tr>\n",
       "    <tr>\n",
       "      <th>1</th>\n",
       "      <td>Todd Gurley</td>\n",
       "      <td>RB</td>\n",
       "      <td>LAR</td>\n",
       "      <td>22.4</td>\n",
       "      <td>21.0</td>\n",
       "      <td>20.5</td>\n",
       "      <td>31.9</td>\n",
       "      <td>23.7</td>\n",
       "    </tr>\n",
       "    <tr>\n",
       "      <th>2</th>\n",
       "      <td>Ezekiel Elliott</td>\n",
       "      <td>RB</td>\n",
       "      <td>Dal</td>\n",
       "      <td>21.0</td>\n",
       "      <td>16.0</td>\n",
       "      <td>20.1</td>\n",
       "      <td>23.9</td>\n",
       "      <td>17.6</td>\n",
       "    </tr>\n",
       "    <tr>\n",
       "      <th>3</th>\n",
       "      <td>Antonio Brown</td>\n",
       "      <td>WR</td>\n",
       "      <td>Pit</td>\n",
       "      <td>20.6</td>\n",
       "      <td>26.0</td>\n",
       "      <td>22.2</td>\n",
       "      <td>22.4</td>\n",
       "      <td>24.3</td>\n",
       "    </tr>\n",
       "    <tr>\n",
       "      <th>4</th>\n",
       "      <td>Michael Thomas</td>\n",
       "      <td>WR</td>\n",
       "      <td>NO</td>\n",
       "      <td>19.3</td>\n",
       "      <td>21.0</td>\n",
       "      <td>16.0</td>\n",
       "      <td>20.8</td>\n",
       "      <td>38.0</td>\n",
       "    </tr>\n",
       "  </tbody>\n",
       "</table>\n",
       "</div>"
      ],
      "text/plain": [
       "            PLAYER POS TEAM  FPTS_PPR_ESPN  FPTS_PPR_CBS  FPTS_PPR_SHARKS  \\\n",
       "0     Alvin Kamara  RB   NO           22.8          21.0             24.1   \n",
       "1      Todd Gurley  RB  LAR           22.4          21.0             20.5   \n",
       "2  Ezekiel Elliott  RB  Dal           21.0          16.0             20.1   \n",
       "3    Antonio Brown  WR  Pit           20.6          26.0             22.2   \n",
       "4   Michael Thomas  WR   NO           19.3          21.0             16.0   \n",
       "\n",
       "   FPTS_PPR_SCOUT  FPTS_PPR_PRVS_WK_ACTUAL  \n",
       "0            32.0                     43.1  \n",
       "1            31.9                     23.7  \n",
       "2            23.9                     17.6  \n",
       "3            22.4                     24.3  \n",
       "4            20.8                     38.0  "
      ]
     },
     "execution_count": 103,
     "metadata": {},
     "output_type": "execute_result"
    }
   ],
   "source": [
    "###INNER MERGE WEEK 2 PROJECTION INFORMATION###\n",
    "df_wk2_ppr_projections = get_weekly_PPR_proj_df_inner_merge(df_wk2_ppr_proj_espn,\n",
    "                                                            df_wk2_ppr_proj_cbs,\n",
    "                                                            df_wk2_ppr_proj_sharks,\n",
    "                                                            df_wk2_ppr_proj_scout,\n",
    "                                                            df_wk2_ppr_prvs_wk_actuals)\n",
    "df_wk2_ppr_projections.head()"
   ]
  },
  {
   "cell_type": "code",
   "execution_count": 119,
   "metadata": {},
   "outputs": [
    {
     "name": "stdout",
     "output_type": "stream",
     "text": [
      "Table week2_ppr_projections was added to the database at sqlite:///fantasy_football_2018.db\n"
     ]
    }
   ],
   "source": [
    "###ADD WEEK 2 INNER MERGE PROJECTIONS TO SQLITE###\n",
    "add_to_SQLite(df=df_wk2_ppr_projections,\n",
    "              table_name='week2_ppr_projections',\n",
    "              if_exists_action='fail')"
   ]
  },
  {
   "cell_type": "code",
   "execution_count": null,
   "metadata": {},
   "outputs": [],
   "source": []
  },
  {
   "cell_type": "code",
   "execution_count": 105,
   "metadata": {},
   "outputs": [
    {
     "name": "stdout",
     "output_type": "stream",
     "text": [
      "(1101, 5)\n",
      "(1602, 6)\n",
      "(1602, 7)\n",
      "(1602, 8)\n"
     ]
    },
    {
     "data": {
      "text/html": [
       "<div>\n",
       "<style scoped>\n",
       "    .dataframe tbody tr th:only-of-type {\n",
       "        vertical-align: middle;\n",
       "    }\n",
       "\n",
       "    .dataframe tbody tr th {\n",
       "        vertical-align: top;\n",
       "    }\n",
       "\n",
       "    .dataframe thead th {\n",
       "        text-align: right;\n",
       "    }\n",
       "</style>\n",
       "<table border=\"1\" class=\"dataframe\">\n",
       "  <thead>\n",
       "    <tr style=\"text-align: right;\">\n",
       "      <th></th>\n",
       "      <th>PLAYER</th>\n",
       "      <th>POS</th>\n",
       "      <th>TEAM</th>\n",
       "      <th>FPTS_PPR_ESPN</th>\n",
       "      <th>FPTS_PPR_CBS</th>\n",
       "      <th>FPTS_PPR_SHARKS</th>\n",
       "      <th>FPTS_PPR_SCOUT</th>\n",
       "      <th>FPTS_PPR_PRVS_WK_ACTUAL</th>\n",
       "    </tr>\n",
       "  </thead>\n",
       "  <tbody>\n",
       "    <tr>\n",
       "      <th>0</th>\n",
       "      <td>Alvin Kamara</td>\n",
       "      <td>RB</td>\n",
       "      <td>NO</td>\n",
       "      <td>22.8</td>\n",
       "      <td>21.0</td>\n",
       "      <td>24.1</td>\n",
       "      <td>32.0</td>\n",
       "      <td>43.1</td>\n",
       "    </tr>\n",
       "    <tr>\n",
       "      <th>1</th>\n",
       "      <td>Todd Gurley</td>\n",
       "      <td>RB</td>\n",
       "      <td>LAR</td>\n",
       "      <td>22.4</td>\n",
       "      <td>21.0</td>\n",
       "      <td>20.5</td>\n",
       "      <td>31.9</td>\n",
       "      <td>23.7</td>\n",
       "    </tr>\n",
       "    <tr>\n",
       "      <th>2</th>\n",
       "      <td>Ezekiel Elliott</td>\n",
       "      <td>RB</td>\n",
       "      <td>Dal</td>\n",
       "      <td>21.0</td>\n",
       "      <td>16.0</td>\n",
       "      <td>20.1</td>\n",
       "      <td>23.9</td>\n",
       "      <td>17.6</td>\n",
       "    </tr>\n",
       "    <tr>\n",
       "      <th>3</th>\n",
       "      <td>Antonio Brown</td>\n",
       "      <td>WR</td>\n",
       "      <td>Pit</td>\n",
       "      <td>20.6</td>\n",
       "      <td>26.0</td>\n",
       "      <td>22.2</td>\n",
       "      <td>22.4</td>\n",
       "      <td>24.3</td>\n",
       "    </tr>\n",
       "    <tr>\n",
       "      <th>4</th>\n",
       "      <td>Michael Thomas</td>\n",
       "      <td>WR</td>\n",
       "      <td>NO</td>\n",
       "      <td>19.3</td>\n",
       "      <td>21.0</td>\n",
       "      <td>16.0</td>\n",
       "      <td>20.8</td>\n",
       "      <td>38.0</td>\n",
       "    </tr>\n",
       "  </tbody>\n",
       "</table>\n",
       "</div>"
      ],
      "text/plain": [
       "            PLAYER POS TEAM  FPTS_PPR_ESPN  FPTS_PPR_CBS  FPTS_PPR_SHARKS  \\\n",
       "0     Alvin Kamara  RB   NO           22.8          21.0             24.1   \n",
       "1      Todd Gurley  RB  LAR           22.4          21.0             20.5   \n",
       "2  Ezekiel Elliott  RB  Dal           21.0          16.0             20.1   \n",
       "3    Antonio Brown  WR  Pit           20.6          26.0             22.2   \n",
       "4   Michael Thomas  WR   NO           19.3          21.0             16.0   \n",
       "\n",
       "   FPTS_PPR_SCOUT  FPTS_PPR_PRVS_WK_ACTUAL  \n",
       "0            32.0                     43.1  \n",
       "1            31.9                     23.7  \n",
       "2            23.9                     17.6  \n",
       "3            22.4                     24.3  \n",
       "4            20.8                     38.0  "
      ]
     },
     "execution_count": 105,
     "metadata": {},
     "output_type": "execute_result"
    }
   ],
   "source": [
    "###OUTER MERGE WEEK 2 PROJECTION INFORMATION###\n",
    "df_wk2_ppr_proj_all_scraped = get_weekly_PPR_proj_df_outer_merge(df_wk2_ppr_proj_espn,\n",
    "                                                            df_wk2_ppr_proj_cbs,\n",
    "                                                            df_wk2_ppr_proj_sharks,\n",
    "                                                            df_wk2_ppr_proj_scout,\n",
    "                                                            df_wk2_ppr_prvs_wk_actuals)\n",
    "df_wk2_ppr_proj_all_scraped.head()"
   ]
  },
  {
   "cell_type": "code",
   "execution_count": 121,
   "metadata": {},
   "outputs": [
    {
     "name": "stdout",
     "output_type": "stream",
     "text": [
      "Table week2_ppr_projections_all_scraped was added to the database at sqlite:///fantasy_football_2018.db\n"
     ]
    }
   ],
   "source": [
    "###ADD WEEK 2 OUTER MERGE PROJECTIONS TO SQLITE###\n",
    "add_to_SQLite(df=df_wk2_ppr_proj_all_scraped,\n",
    "              table_name='week2_ppr_projections_all_scraped',\n",
    "              if_exists_action='fail')"
   ]
  },
  {
   "cell_type": "code",
   "execution_count": null,
   "metadata": {},
   "outputs": [],
   "source": []
  },
  {
   "cell_type": "code",
   "execution_count": null,
   "metadata": {},
   "outputs": [],
   "source": []
  },
  {
   "cell_type": "markdown",
   "metadata": {},
   "source": [
    "#### Merge Week 1 Projection Information and Send to SQLite"
   ]
  },
  {
   "cell_type": "code",
   "execution_count": 125,
   "metadata": {},
   "outputs": [
    {
     "name": "stdout",
     "output_type": "stream",
     "text": [
      "(703, 5)\n",
      "(445, 6)\n",
      "(358, 7)\n",
      "(358, 8)\n"
     ]
    },
    {
     "data": {
      "text/html": [
       "<div>\n",
       "<style scoped>\n",
       "    .dataframe tbody tr th:only-of-type {\n",
       "        vertical-align: middle;\n",
       "    }\n",
       "\n",
       "    .dataframe tbody tr th {\n",
       "        vertical-align: top;\n",
       "    }\n",
       "\n",
       "    .dataframe thead th {\n",
       "        text-align: right;\n",
       "    }\n",
       "</style>\n",
       "<table border=\"1\" class=\"dataframe\">\n",
       "  <thead>\n",
       "    <tr style=\"text-align: right;\">\n",
       "      <th></th>\n",
       "      <th>PLAYER</th>\n",
       "      <th>POS</th>\n",
       "      <th>TEAM</th>\n",
       "      <th>FPTS_PPR_ESPN</th>\n",
       "      <th>FPTS_PPR_CBS</th>\n",
       "      <th>FPTS_PPR_SHARKS</th>\n",
       "      <th>FPTS_PPR_SCOUT</th>\n",
       "      <th>FPTS_PPR_PRVS_WK_ACTUAL</th>\n",
       "    </tr>\n",
       "  </thead>\n",
       "  <tbody>\n",
       "    <tr>\n",
       "      <th>0</th>\n",
       "      <td>Alvin Kamara</td>\n",
       "      <td>RB</td>\n",
       "      <td>NO</td>\n",
       "      <td>22.2</td>\n",
       "      <td>19.0</td>\n",
       "      <td>19.1</td>\n",
       "      <td>34.0</td>\n",
       "      <td>0.0</td>\n",
       "    </tr>\n",
       "    <tr>\n",
       "      <th>1</th>\n",
       "      <td>David Johnson</td>\n",
       "      <td>RB</td>\n",
       "      <td>Ari</td>\n",
       "      <td>21.3</td>\n",
       "      <td>19.0</td>\n",
       "      <td>23.6</td>\n",
       "      <td>27.0</td>\n",
       "      <td>0.0</td>\n",
       "    </tr>\n",
       "    <tr>\n",
       "      <th>2</th>\n",
       "      <td>Todd Gurley</td>\n",
       "      <td>RB</td>\n",
       "      <td>LAR</td>\n",
       "      <td>21.2</td>\n",
       "      <td>23.0</td>\n",
       "      <td>19.3</td>\n",
       "      <td>28.5</td>\n",
       "      <td>0.0</td>\n",
       "    </tr>\n",
       "    <tr>\n",
       "      <th>3</th>\n",
       "      <td>Antonio Brown</td>\n",
       "      <td>WR</td>\n",
       "      <td>Pit</td>\n",
       "      <td>19.5</td>\n",
       "      <td>22.0</td>\n",
       "      <td>19.3</td>\n",
       "      <td>17.3</td>\n",
       "      <td>0.0</td>\n",
       "    </tr>\n",
       "    <tr>\n",
       "      <th>4</th>\n",
       "      <td>Tom Brady</td>\n",
       "      <td>QB</td>\n",
       "      <td>NE</td>\n",
       "      <td>19.4</td>\n",
       "      <td>20.0</td>\n",
       "      <td>27.4</td>\n",
       "      <td>23.3</td>\n",
       "      <td>0.0</td>\n",
       "    </tr>\n",
       "  </tbody>\n",
       "</table>\n",
       "</div>"
      ],
      "text/plain": [
       "          PLAYER POS TEAM  FPTS_PPR_ESPN  FPTS_PPR_CBS  FPTS_PPR_SHARKS  \\\n",
       "0   Alvin Kamara  RB   NO           22.2          19.0             19.1   \n",
       "1  David Johnson  RB  Ari           21.3          19.0             23.6   \n",
       "2    Todd Gurley  RB  LAR           21.2          23.0             19.3   \n",
       "3  Antonio Brown  WR  Pit           19.5          22.0             19.3   \n",
       "4      Tom Brady  QB   NE           19.4          20.0             27.4   \n",
       "\n",
       "   FPTS_PPR_SCOUT  FPTS_PPR_PRVS_WK_ACTUAL  \n",
       "0            34.0                      0.0  \n",
       "1            27.0                      0.0  \n",
       "2            28.5                      0.0  \n",
       "3            17.3                      0.0  \n",
       "4            23.3                      0.0  "
      ]
     },
     "execution_count": 125,
     "metadata": {},
     "output_type": "execute_result"
    }
   ],
   "source": [
    "###INNER MERGE WEEK 1 PROJECTION INFORMATION###\n",
    "df_wk1_ppr_projections = get_weekly_PPR_proj_df_inner_merge(df_wk1_ppr_proj_espn,\n",
    "                                                            df_wk1_ppr_proj_cbs,\n",
    "                                                            df_wk1_ppr_proj_sharks,\n",
    "                                                            df_wk1_ppr_proj_scout,\n",
    "                                                            df_wk1_ppr_prvs_wk_actuals)\n",
    "df_wk1_ppr_projections.head()"
   ]
  },
  {
   "cell_type": "code",
   "execution_count": 126,
   "metadata": {},
   "outputs": [
    {
     "name": "stdout",
     "output_type": "stream",
     "text": [
      "Table week1_ppr_projections was added to the database at sqlite:///fantasy_football_2018.db\n"
     ]
    }
   ],
   "source": [
    "###ADD WEEK 1 INNER MERGE PROJECTIONS TO SQLITE###\n",
    "add_to_SQLite(df=df_wk1_ppr_projections,\n",
    "              table_name='week1_ppr_projections',\n",
    "              if_exists_action='fail')"
   ]
  },
  {
   "cell_type": "code",
   "execution_count": null,
   "metadata": {},
   "outputs": [],
   "source": []
  },
  {
   "cell_type": "code",
   "execution_count": 127,
   "metadata": {},
   "outputs": [
    {
     "name": "stdout",
     "output_type": "stream",
     "text": [
      "(1097, 5)\n",
      "(1549, 6)\n",
      "(1550, 7)\n",
      "(1550, 8)\n"
     ]
    },
    {
     "data": {
      "text/html": [
       "<div>\n",
       "<style scoped>\n",
       "    .dataframe tbody tr th:only-of-type {\n",
       "        vertical-align: middle;\n",
       "    }\n",
       "\n",
       "    .dataframe tbody tr th {\n",
       "        vertical-align: top;\n",
       "    }\n",
       "\n",
       "    .dataframe thead th {\n",
       "        text-align: right;\n",
       "    }\n",
       "</style>\n",
       "<table border=\"1\" class=\"dataframe\">\n",
       "  <thead>\n",
       "    <tr style=\"text-align: right;\">\n",
       "      <th></th>\n",
       "      <th>PLAYER</th>\n",
       "      <th>POS</th>\n",
       "      <th>TEAM</th>\n",
       "      <th>FPTS_PPR_ESPN</th>\n",
       "      <th>FPTS_PPR_CBS</th>\n",
       "      <th>FPTS_PPR_SHARKS</th>\n",
       "      <th>FPTS_PPR_SCOUT</th>\n",
       "      <th>FPTS_PPR_PRVS_WK_ACTUAL</th>\n",
       "    </tr>\n",
       "  </thead>\n",
       "  <tbody>\n",
       "    <tr>\n",
       "      <th>0</th>\n",
       "      <td>Alvin Kamara</td>\n",
       "      <td>RB</td>\n",
       "      <td>NO</td>\n",
       "      <td>22.2</td>\n",
       "      <td>19.0</td>\n",
       "      <td>19.1</td>\n",
       "      <td>34.0</td>\n",
       "      <td>NaN</td>\n",
       "    </tr>\n",
       "    <tr>\n",
       "      <th>1</th>\n",
       "      <td>David Johnson</td>\n",
       "      <td>RB</td>\n",
       "      <td>Ari</td>\n",
       "      <td>21.3</td>\n",
       "      <td>19.0</td>\n",
       "      <td>23.6</td>\n",
       "      <td>27.0</td>\n",
       "      <td>NaN</td>\n",
       "    </tr>\n",
       "    <tr>\n",
       "      <th>2</th>\n",
       "      <td>Todd Gurley</td>\n",
       "      <td>RB</td>\n",
       "      <td>LAR</td>\n",
       "      <td>21.2</td>\n",
       "      <td>23.0</td>\n",
       "      <td>19.3</td>\n",
       "      <td>28.5</td>\n",
       "      <td>NaN</td>\n",
       "    </tr>\n",
       "    <tr>\n",
       "      <th>3</th>\n",
       "      <td>Antonio Brown</td>\n",
       "      <td>WR</td>\n",
       "      <td>Pit</td>\n",
       "      <td>19.5</td>\n",
       "      <td>22.0</td>\n",
       "      <td>19.3</td>\n",
       "      <td>17.3</td>\n",
       "      <td>NaN</td>\n",
       "    </tr>\n",
       "    <tr>\n",
       "      <th>4</th>\n",
       "      <td>Tom Brady</td>\n",
       "      <td>QB</td>\n",
       "      <td>NE</td>\n",
       "      <td>19.4</td>\n",
       "      <td>20.0</td>\n",
       "      <td>27.4</td>\n",
       "      <td>23.3</td>\n",
       "      <td>NaN</td>\n",
       "    </tr>\n",
       "  </tbody>\n",
       "</table>\n",
       "</div>"
      ],
      "text/plain": [
       "          PLAYER POS TEAM  FPTS_PPR_ESPN  FPTS_PPR_CBS  FPTS_PPR_SHARKS  \\\n",
       "0   Alvin Kamara  RB   NO           22.2          19.0             19.1   \n",
       "1  David Johnson  RB  Ari           21.3          19.0             23.6   \n",
       "2    Todd Gurley  RB  LAR           21.2          23.0             19.3   \n",
       "3  Antonio Brown  WR  Pit           19.5          22.0             19.3   \n",
       "4      Tom Brady  QB   NE           19.4          20.0             27.4   \n",
       "\n",
       "   FPTS_PPR_SCOUT FPTS_PPR_PRVS_WK_ACTUAL  \n",
       "0            34.0                     NaN  \n",
       "1            27.0                     NaN  \n",
       "2            28.5                     NaN  \n",
       "3            17.3                     NaN  \n",
       "4            23.3                     NaN  "
      ]
     },
     "execution_count": 127,
     "metadata": {},
     "output_type": "execute_result"
    }
   ],
   "source": [
    "###OUTER MERGE WEEK 1 PROJECTION INFORMATION###\n",
    "df_wk1_ppr_proj_all_scraped = get_weekly_PPR_proj_df_outer_merge(df_wk1_ppr_proj_espn,\n",
    "                                                            df_wk1_ppr_proj_cbs,\n",
    "                                                            df_wk1_ppr_proj_sharks,\n",
    "                                                            df_wk1_ppr_proj_scout,\n",
    "                                                            df_wk1_ppr_prvs_wk_actuals)\n",
    "df_wk1_ppr_proj_all_scraped.head()"
   ]
  },
  {
   "cell_type": "code",
   "execution_count": 129,
   "metadata": {},
   "outputs": [
    {
     "name": "stdout",
     "output_type": "stream",
     "text": [
      "Table week1_ppr_projections_all_scraped was added to the database at sqlite:///fantasy_football_2018.db\n"
     ]
    }
   ],
   "source": [
    "###ADD WEEK 1 OUTER MERGE PROJECTIONS TO SQLITE###\n",
    "add_to_SQLite(df=df_wk1_ppr_proj_all_scraped,\n",
    "              table_name='week1_ppr_projections_all_scraped',\n",
    "              if_exists_action='fail')"
   ]
  },
  {
   "cell_type": "code",
   "execution_count": null,
   "metadata": {},
   "outputs": [],
   "source": []
  },
  {
   "cell_type": "code",
   "execution_count": null,
   "metadata": {},
   "outputs": [],
   "source": []
  },
  {
   "cell_type": "markdown",
   "metadata": {},
   "source": [
    "#### Save Week 1/2 FanDuel Salary Information to DB\n",
    "Note: Week 1 will be empty database with column headers (but create it so at least exists when logic references that database)"
   ]
  },
  {
   "cell_type": "code",
   "execution_count": 138,
   "metadata": {},
   "outputs": [
    {
     "name": "stdout",
     "output_type": "stream",
     "text": [
      "Table week1_salaries_fanduel was added to the database at sqlite:///fantasy_football_2018.db\n",
      "Table week2_salaries_fanduel was added to the database at sqlite:///fantasy_football_2018.db\n"
     ]
    }
   ],
   "source": [
    "###SAVE WEEK 1 FANDUEL SALARY INFO TO SQLITE###\n",
    "#(note this is an empty datafame, but )\n",
    "add_to_SQLite(df=df_wk1_salary_fanduel,\n",
    "              table_name='week1_salaries_fanduel',\n",
    "              if_exists_action='fail')\n",
    "\n",
    "\n",
    "###SAVE WEEK 2 FANDUEL SALARY INFO TO SQLITE###\n",
    "add_to_SQLite(df=df_wk2_salary_fanduel,\n",
    "              table_name='week2_salaries_fanduel',\n",
    "              if_exists_action='fail')"
   ]
  },
  {
   "cell_type": "code",
   "execution_count": null,
   "metadata": {},
   "outputs": [],
   "source": []
  },
  {
   "cell_type": "code",
   "execution_count": null,
   "metadata": {},
   "outputs": [],
   "source": []
  },
  {
   "cell_type": "markdown",
   "metadata": {},
   "source": [
    "#### Save Actual Player PPR Results to DB for Week1"
   ]
  },
  {
   "cell_type": "code",
   "execution_count": 139,
   "metadata": {},
   "outputs": [
    {
     "name": "stdout",
     "output_type": "stream",
     "text": [
      "Table week1_ppr_actuals was added to the database at sqlite:///fantasy_football_2018.db\n"
     ]
    }
   ],
   "source": [
    "###SAVE WEEK 1 ACTUAL PPR RESULTS INFO TO SQLITE###\n",
    "\n",
    "#above the actual ppr results for week 1 were saved as df_wk2_ppr_prvs_wk_actuals\n",
    "#rename it first, just to prevent confusion\n",
    "df_wk1_ppr_actuals = df_wk2_ppr_prvs_wk_actuals\n",
    "\n",
    "#add to SQLite\n",
    "add_to_SQLite(df=df_wk1_ppr_actuals,\n",
    "              table_name='week1_ppr_actuals',\n",
    "              if_exists_action='fail')"
   ]
  },
  {
   "cell_type": "code",
   "execution_count": null,
   "metadata": {},
   "outputs": [],
   "source": []
  }
 ],
 "metadata": {
  "kernelspec": {
   "display_name": "Python 3",
   "language": "python",
   "name": "python3"
  },
  "language_info": {
   "codemirror_mode": {
    "name": "ipython",
    "version": 3
   },
   "file_extension": ".py",
   "mimetype": "text/x-python",
   "name": "python",
   "nbconvert_exporter": "python",
   "pygments_lexer": "ipython3",
   "version": "3.6.5"
  }
 },
 "nbformat": 4,
 "nbformat_minor": 2
}
